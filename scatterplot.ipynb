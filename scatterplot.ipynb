{
 "cells": [
  {
   "cell_type": "markdown",
   "metadata": {
    "deletable": true,
    "editable": true
   },
   "source": [
    "Example URL: http://test-vm.thehyve.net/user/ward/notebooks/scatterplot.ipynb?patientset=28726&user=demo-user&password=demo-user&concept_x=1341006&concept_y=SNOMEDCT/Sanofi6"
   ]
  },
  {
   "cell_type": "code",
   "execution_count": null,
   "metadata": {
    "collapsed": false,
    "deletable": true,
    "editable": true
   },
   "outputs": [],
   "source": [
    "import transmart as tm\n",
    "import pandas as pd\n",
    "import numpy as np\n",
    "import time\n",
    "from pandas.io.json import json_normalize\n",
    "from IPython.display import HTML\n",
    "\n",
    "pd.set_option('max_colwidth', 1000)\n",
    "pd.set_option(\"display.max_rows\", 100)\n",
    "pd.set_option(\"display.max_columns\", 100)\n",
    "\n",
    "print('transmart python client version: {}'.format(tm.__version__))"
   ]
  },
  {
   "cell_type": "markdown",
   "metadata": {
    "deletable": true,
    "editable": true
   },
   "source": [
    "With Run all the following can give issues with Javascript for D3 or grabbing paramters from URL not being executed yet"
   ]
  },
  {
   "cell_type": "code",
   "execution_count": null,
   "metadata": {
    "collapsed": false,
    "deletable": true,
    "editable": true
   },
   "outputs": [],
   "source": [
    "import Args"
   ]
  },
  {
   "cell_type": "code",
   "execution_count": null,
   "metadata": {
    "collapsed": true,
    "deletable": true,
    "editable": true
   },
   "outputs": [],
   "source": [
    "import d3_lib"
   ]
  },
  {
   "cell_type": "code",
   "execution_count": null,
   "metadata": {
    "collapsed": false,
    "deletable": true,
    "editable": true
   },
   "outputs": [],
   "source": [
    "HTML('<script src=\"lib/d3/d3.min.js\"></script>')"
   ]
  },
  {
   "cell_type": "code",
   "execution_count": null,
   "metadata": {
    "collapsed": false,
    "deletable": true,
    "editable": true
   },
   "outputs": [],
   "source": [
    "HTML(d3_lib.set_styles(['basic_axis','basic_scatter']))"
   ]
  },
  {
   "cell_type": "code",
   "execution_count": null,
   "metadata": {
    "collapsed": false,
    "deletable": true,
    "editable": true
   },
   "outputs": [],
   "source": [
    "args = Args.Parse(patientset=int, user=str, password=str, concept_x=str, concept_y=str)\n",
    "args"
   ]
  },
  {
   "cell_type": "code",
   "execution_count": null,
   "metadata": {
    "collapsed": false,
    "deletable": true,
    "editable": true
   },
   "outputs": [],
   "source": [
    "import getpass\n",
    "from transmart import TransmartApi\n",
    "\n",
    "api = tm.TransmartApi(\n",
    "    host = 'http://transmart.thehyve.net',\n",
    "    user = args.user,  # input('Username:'),\n",
    "    password = args.password,  # getpass.getpass('Password:'),\n",
    "    api_version = 2,\n",
    "    print_urls = False)\n",
    "\n",
    "api.access()"
   ]
  },
  {
   "cell_type": "code",
   "execution_count": null,
   "metadata": {
    "collapsed": true,
    "deletable": true,
    "editable": true
   },
   "outputs": [],
   "source": [
    "patient_set_id = args.patientset\n",
    "# patients = api.get_patients(patientSet = patient_set_id)\n",
    "# patients"
   ]
  },
  {
   "cell_type": "code",
   "execution_count": null,
   "metadata": {
    "collapsed": true,
    "deletable": true,
    "editable": true
   },
   "outputs": [],
   "source": [
    "observations = api.get_observations(patientSet = patient_set_id)\n",
    "# observations"
   ]
  },
  {
   "cell_type": "code",
   "execution_count": null,
   "metadata": {
    "collapsed": true,
    "deletable": true,
    "editable": true
   },
   "outputs": [],
   "source": [
    "# pd.DataFrame(observations['concept.conceptPath'].unique())"
   ]
  },
  {
   "cell_type": "code",
   "execution_count": null,
   "metadata": {
    "collapsed": true,
    "deletable": true,
    "editable": true
   },
   "outputs": [],
   "source": [
    "concept_x = args.concept_x\n",
    "concept_y = args.concept_y"
   ]
  },
  {
   "cell_type": "code",
   "execution_count": null,
   "metadata": {
    "collapsed": true,
    "deletable": true,
    "editable": true
   },
   "outputs": [],
   "source": [
    "observations_filtered = observations[(observations['concept.conceptCode'] == concept_x) | \\\n",
    "                                     (observations['concept.conceptCode'] == concept_y)]\n",
    "# observations_filtered"
   ]
  },
  {
   "cell_type": "code",
   "execution_count": null,
   "metadata": {
    "collapsed": true,
    "deletable": true,
    "editable": true
   },
   "outputs": [],
   "source": [
    "observations_pivot_table = pd.pivot_table(observations_filtered,\n",
    "                                          values='numericValue',\n",
    "                                          index=['patient.id'],\n",
    "                                          columns=['concept.conceptCode'],\n",
    "                                          aggfunc=np.average\n",
    "                                         ).dropna()\n",
    "# observations_pivot_table"
   ]
  },
  {
   "cell_type": "code",
   "execution_count": null,
   "metadata": {
    "collapsed": true,
    "deletable": true,
    "editable": true
   },
   "outputs": [],
   "source": [
    "observations_pivot_table = observations_pivot_table.rename(index=str, columns={concept_x: \"x\", concept_y: \"y\"})\n",
    "observations_array_of_dicts = observations_pivot_table.to_dict(orient='records')\n",
    "# observations_array_of_dicts"
   ]
  },
  {
   "cell_type": "code",
   "execution_count": null,
   "metadata": {
    "collapsed": false,
    "deletable": true,
    "editable": true
   },
   "outputs": [],
   "source": [
    "HTML(d3_lib.draw_graph('basic_scatter',{'data': observations_array_of_dicts}))"
   ]
  }
 ],
 "metadata": {
  "kernelspec": {
   "display_name": "Python 3",
   "language": "python",
   "name": "python3"
  },
  "language_info": {
   "codemirror_mode": {
    "name": "ipython",
    "version": 3
   },
   "file_extension": ".py",
   "mimetype": "text/x-python",
   "name": "python",
   "nbconvert_exporter": "python",
   "pygments_lexer": "ipython3",
   "version": "3.5.1"
  }
 },
 "nbformat": 4,
 "nbformat_minor": 2
}
