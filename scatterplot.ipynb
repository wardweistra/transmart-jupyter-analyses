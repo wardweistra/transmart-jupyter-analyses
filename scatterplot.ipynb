{
 "cells": [
  {
   "cell_type": "markdown",
   "metadata": {
    "deletable": true,
    "editable": true
   },
   "source": [
    "Example URL: http://localhost:8888/notebooks/scatterplot.ipynb?patientset=28726&user=demo-user&password=demo-user&concept_x=1341006&concept_y=SNOMEDCT/Sanofi6"
   ]
  },
  {
   "cell_type": "code",
   "execution_count": 1,
   "metadata": {
    "collapsed": false,
    "deletable": true,
    "editable": true
   },
   "outputs": [
    {
     "name": "stdout",
     "output_type": "stream",
     "text": [
      "transmart python client version: 0.1.3\n"
     ]
    }
   ],
   "source": [
    "import transmart as tm\n",
    "import pandas as pd\n",
    "import numpy as np\n",
    "import time\n",
    "from pandas.io.json import json_normalize\n",
    "from IPython.display import HTML\n",
    "\n",
    "pd.set_option('max_colwidth', 1000)\n",
    "pd.set_option(\"display.max_rows\", 100)\n",
    "pd.set_option(\"display.max_columns\", 100)\n",
    "\n",
    "print('transmart python client version: {}'.format(tm.__version__))"
   ]
  },
  {
   "cell_type": "markdown",
   "metadata": {
    "deletable": true,
    "editable": true
   },
   "source": [
    "With Run all the following can give issues with Javascript for D3 or grabbing paramters from URL not being executed yet"
   ]
  },
  {
   "cell_type": "code",
   "execution_count": 2,
   "metadata": {
    "collapsed": false,
    "deletable": true,
    "editable": true
   },
   "outputs": [
    {
     "data": {
      "application/javascript": [
       "\n",
       "        require(['base/js/namespace'], function(Jupyter) {\n",
       "            var ready = function() {\n",
       "                var query =  window.location.search.substring(1);\n",
       "                Jupyter.notebook.kernel.execute(\"import Args; Args._grabQS('\" + query + \"')\");\n",
       "            };\n",
       "            // If the kernel is ready when we get here the event apparently doesn't fire. They should\n",
       "            // use promises instead.\n",
       "            if (Jupyter.notebook.kernel) {\n",
       "                ready();\n",
       "            } else {\n",
       "                Jupyter.notebook.events.on('kernel_ready.Kernel', ready);\n",
       "            }\n",
       "        });\n",
       "        "
      ],
      "text/plain": [
       "<IPython.core.display.Javascript object>"
      ]
     },
     "metadata": {},
     "output_type": "display_data"
    }
   ],
   "source": [
    "import Args"
   ]
  },
  {
   "cell_type": "code",
   "execution_count": 3,
   "metadata": {
    "collapsed": true,
    "deletable": true,
    "editable": true
   },
   "outputs": [],
   "source": [
    "import d3_lib"
   ]
  },
  {
   "cell_type": "code",
   "execution_count": 4,
   "metadata": {
    "collapsed": false,
    "deletable": true,
    "editable": true
   },
   "outputs": [
    {
     "data": {
      "text/html": [
       "<script src=\"lib/d3/d3.min.js\"></script>"
      ],
      "text/plain": [
       "<IPython.core.display.HTML object>"
      ]
     },
     "execution_count": 4,
     "metadata": {},
     "output_type": "execute_result"
    }
   ],
   "source": [
    "HTML('<script src=\"lib/d3/d3.min.js\"></script>')"
   ]
  },
  {
   "cell_type": "code",
   "execution_count": 5,
   "metadata": {
    "collapsed": false,
    "deletable": true,
    "editable": true
   },
   "outputs": [
    {
     "data": {
      "text/html": [
       "<style>\n",
       ".axis path,\n",
       ".axis line {\n",
       "    fill: none;\n",
       "    stroke: grey;\n",
       "    stroke-width: 1;\n",
       "    shape-rendering: crispEdges;\n",
       "}\n",
       "\n",
       "\n",
       "/* Based on http://bl.ocks.org/d3noob/b3ff6ae1c120eea654b5 */\n",
       "\n",
       "path { \n",
       "    stroke: steelblue;\n",
       "    stroke-width: 2;\n",
       "    fill: none;\n",
       "}\n",
       "\n",
       "\n",
       "\n",
       "/* Based on http://bl.ocks.org/mbostock/3887118 */\n",
       "\n",
       ".dot {\n",
       "  stroke: #000;\n",
       "}\n",
       "\n",
       "/* http://bl.ocks.org/mbostock/4062045 */\n",
       "\n",
       ".node {\n",
       "  stroke: #fff;\n",
       "  stroke-width: 1.5px;\n",
       "}\n",
       "\n",
       ".link {\n",
       "  stroke: #999;\n",
       "  stroke-opacity: .6;\n",
       "}\n",
       "\n",
       "      rect.bordered {\n",
       "        stroke: #E6E6E6;\n",
       "        stroke-width:2px;   \n",
       "      }\n",
       "\n",
       "      text.mono {\n",
       "        font-size: 9pt;\n",
       "        font-family: Consolas, courier;\n",
       "        fill: #aaa;\n",
       "      }\n",
       "\n",
       "      text.axis-workweek {\n",
       "        fill: #000;\n",
       "      }\n",
       "\n",
       "      text.axis-worktime {\n",
       "        fill: #000;\n",
       "      }</style>"
      ],
      "text/plain": [
       "<IPython.core.display.HTML object>"
      ]
     },
     "execution_count": 5,
     "metadata": {},
     "output_type": "execute_result"
    }
   ],
   "source": [
    "HTML(d3_lib.set_styles(['basic_axis','basic_line','basic_scatter','force_directed_graph','day-hr-heatmap']))"
   ]
  },
  {
   "cell_type": "markdown",
   "metadata": {},
   "source": [
    "In real setting a token would need to be passed, rather than user/password."
   ]
  },
  {
   "cell_type": "code",
   "execution_count": 6,
   "metadata": {
    "collapsed": false,
    "deletable": true,
    "editable": true
   },
   "outputs": [
    {
     "data": {
      "text/plain": [
       "Args(concept_x='1341006', concept_y='SNOMEDCT/Sanofi6', password='demo-user', patientset=28726, user='demo-user', extra_=[])"
      ]
     },
     "execution_count": 6,
     "metadata": {},
     "output_type": "execute_result"
    }
   ],
   "source": [
    "args = Args.Parse(patientset=int, user=str, password=str, concept_x=str, concept_y=str)\n",
    "args"
   ]
  },
  {
   "cell_type": "code",
   "execution_count": 7,
   "metadata": {
    "collapsed": false,
    "deletable": true,
    "editable": true
   },
   "outputs": [
    {
     "data": {
      "text/plain": [
       "'Connected successfully'"
      ]
     },
     "execution_count": 7,
     "metadata": {},
     "output_type": "execute_result"
    }
   ],
   "source": [
    "import getpass\n",
    "from transmart import TransmartApi\n",
    "\n",
    "api = tm.TransmartApi(\n",
    "    host = 'http://transmart.thehyve.net',\n",
    "    user = args.user,  # input('Username:'),\n",
    "    password = args.password,  # getpass.getpass('Password:'),\n",
    "    api_version = 2,\n",
    "    print_urls = False)\n",
    "\n",
    "api.access()"
   ]
  },
  {
   "cell_type": "code",
   "execution_count": 8,
   "metadata": {
    "collapsed": true,
    "deletable": true,
    "editable": true
   },
   "outputs": [],
   "source": [
    "patient_set_id = args.patientset\n",
    "# patients = api.get_patients(patientSet = patient_set_id)\n",
    "# patients"
   ]
  },
  {
   "cell_type": "code",
   "execution_count": 9,
   "metadata": {
    "collapsed": true,
    "deletable": true,
    "editable": true
   },
   "outputs": [],
   "source": [
    "observations = api.get_observations(patientSet = patient_set_id)\n",
    "# observations"
   ]
  },
  {
   "cell_type": "code",
   "execution_count": 10,
   "metadata": {
    "collapsed": true,
    "deletable": true,
    "editable": true
   },
   "outputs": [],
   "source": [
    "# pd.DataFrame(observations['concept.conceptPath'].unique())"
   ]
  },
  {
   "cell_type": "code",
   "execution_count": 11,
   "metadata": {
    "collapsed": true,
    "deletable": true,
    "editable": true
   },
   "outputs": [],
   "source": [
    "concept_x = args.concept_x\n",
    "concept_y = args.concept_y"
   ]
  },
  {
   "cell_type": "code",
   "execution_count": 12,
   "metadata": {
    "collapsed": true,
    "deletable": true,
    "editable": true
   },
   "outputs": [],
   "source": [
    "observations_filtered = observations[(observations['concept.conceptCode'] == concept_x) | \\\n",
    "                                     (observations['concept.conceptCode'] == concept_y)]\n",
    "# observations_filtered"
   ]
  },
  {
   "cell_type": "code",
   "execution_count": 13,
   "metadata": {
    "collapsed": true,
    "deletable": true,
    "editable": true
   },
   "outputs": [],
   "source": [
    "observations_pivot_table = pd.pivot_table(observations_filtered,\n",
    "                                          values='numericValue',\n",
    "                                          index=['patient.id'],\n",
    "                                          columns=['concept.conceptCode'],\n",
    "                                          aggfunc=np.average\n",
    "                                         ).dropna()\n",
    "# observations_pivot_table"
   ]
  },
  {
   "cell_type": "code",
   "execution_count": 14,
   "metadata": {
    "collapsed": true,
    "deletable": true,
    "editable": true
   },
   "outputs": [],
   "source": [
    "observations_pivot_table = observations_pivot_table.rename(index=str, columns={concept_x: \"x\", concept_y: \"y\"})\n",
    "observations_array_of_dicts = observations_pivot_table.to_dict(orient='records')\n",
    "# observations_array_of_dicts"
   ]
  },
  {
   "cell_type": "code",
   "execution_count": 16,
   "metadata": {
    "collapsed": false,
    "deletable": true,
    "editable": true
   },
   "outputs": [
    {
     "data": {
      "text/html": [
       "\n",
       "    \n",
       "                <div id='maindiv9247635372'></div>\n",
       "                \n",
       "                <script>\n",
       "                    \n",
       "// Based on http://bl.ocks.org/mbostock/3887118\n",
       "\n",
       "var margin = {top: 20, right: 20, bottom: 30, left: 40},\n",
       "    width = 600 - margin.left - margin.right,\n",
       "    height = 270 - margin.top - margin.bottom;\n",
       "\n",
       "var x = d3.scale.linear()\n",
       "    .range([0, width]);\n",
       "\n",
       "var y = d3.scale.linear()\n",
       "    .range([height, 0]);\n",
       "\n",
       "var color = d3.scale.category10();\n",
       "\n",
       "var xAxis = d3.svg.axis()\n",
       "    .scale(x)\n",
       "    .orient(\"bottom\");\n",
       "\n",
       "var yAxis = d3.svg.axis()\n",
       "    .scale(y)\n",
       "    .orient(\"left\");\n",
       "\n",
       "d3.select(\"#maindiv9247635372\").selectAll(\"svg\").remove();\n",
       "var svg = d3.select(\"#maindiv9247635372\").append(\"svg\")\n",
       "    .attr(\"width\", width + margin.left + margin.right)\n",
       "    .attr(\"height\", height + margin.top + margin.bottom)\n",
       "  .append(\"g\")\n",
       "    .attr(\"transform\", \"translate(\" + margin.left + \",\" + margin.top + \")\");\n",
       "\n",
       "//d3.tsv(\"data.tsv\", function(error, data) {\n",
       "//  if (error) throw error;\n",
       "var data = [{'x': 1.5, 'y': 2.3333333333333335}, {'x': 2.1666666666666665, 'y': 0.33333333333333331}, {'x': 3.5, 'y': 0.0}, {'x': 1.3333333333333333, 'y': 0.66666666666666663}, {'x': 1.3333333333333333, 'y': 0.0}, {'x': 1.0, 'y': 0.33333333333333331}];\n",
       "\n",
       "  data.forEach(function(d) {\n",
       "    d.x = +d.x;\n",
       "    d.y = +d.y;\n",
       "  });\n",
       "\n",
       "  x.domain(d3.extent(data, function(d) { return d.x; })).nice();\n",
       "  y.domain(d3.extent(data, function(d) { return d.y; })).nice();\n",
       "\n",
       "  svg.append(\"g\")\n",
       "      .attr(\"class\", \"x axis\")\n",
       "      .attr(\"transform\", \"translate(0,\" + height + \")\")\n",
       "      .call(xAxis);\n",
       "\n",
       "  svg.append(\"g\")\n",
       "      .attr(\"class\", \"y axis\")\n",
       "      .call(yAxis);\n",
       "\n",
       "  svg.selectAll(\".dot\")\n",
       "      .data(data)\n",
       "    .enter().append(\"circle\")\n",
       "      .attr(\"class\", \"dot\")\n",
       "      .attr(\"r\", 3.5)\n",
       "      .attr(\"cx\", function(d) { return x(d.x); })\n",
       "      .attr(\"cy\", function(d) { return y(d.y); })\n",
       "      .style(\"fill\", function(d) { return color(d.c); });\n",
       "\n",
       "  var legend = svg.selectAll(\".legend\")\n",
       "      .data(color.domain())\n",
       "    .enter().append(\"g\")\n",
       "      .attr(\"class\", \"legend\")\n",
       "      .attr(\"transform\", function(d, i) { return \"translate(0,\" + i * 20 + \")\"; });\n",
       "\n",
       "  legend.append(\"rect\")\n",
       "      .attr(\"x\", width - 18)\n",
       "      .attr(\"width\", 18)\n",
       "      .attr(\"height\", 18)\n",
       "      .style(\"fill\", color);\n",
       "\n",
       "  legend.append(\"text\")\n",
       "      .attr(\"x\", width - 24)\n",
       "      .attr(\"y\", 9)\n",
       "      .attr(\"dy\", \".35em\")\n",
       "      .style(\"text-anchor\", \"end\")\n",
       "      .text(function(d) { return d; });\n",
       "\n",
       "//});\n",
       "\n",
       "\n",
       "                </script>\n",
       "\n",
       "                "
      ],
      "text/plain": [
       "<IPython.core.display.HTML object>"
      ]
     },
     "execution_count": 16,
     "metadata": {},
     "output_type": "execute_result"
    }
   ],
   "source": [
    "HTML(d3_lib.draw_graph('basic_scatter',{'data': observations_array_of_dicts}))"
   ]
  }
 ],
 "metadata": {
  "kernelspec": {
   "display_name": "Python 3",
   "language": "python",
   "name": "python3"
  },
  "language_info": {
   "codemirror_mode": {
    "name": "ipython",
    "version": 3
   },
   "file_extension": ".py",
   "mimetype": "text/x-python",
   "name": "python",
   "nbconvert_exporter": "python",
   "pygments_lexer": "ipython3",
   "version": "3.5.1"
  }
 },
 "nbformat": 4,
 "nbformat_minor": 2
}
